{
 "cells": [
  {
   "cell_type": "markdown",
   "id": "46b617b6-cac1-44f5-9538-89b57be6df88",
   "metadata": {},
   "source": [
    "# Simple Linear Regression"
   ]
  },
  {
   "cell_type": "code",
   "execution_count": 21,
   "id": "cda1bae1-3a2d-4bcd-a299-ec7569189f22",
   "metadata": {},
   "outputs": [],
   "source": [
    "import pandas as pd\n",
    "import seaborn as sns\n",
    "import matplotlib.pyplot as plt\n",
    "from sklearn.model_selection import train_test_split"
   ]
  },
  {
   "cell_type": "code",
   "execution_count": 33,
   "id": "1ec661bb-0fbc-4b69-bcd9-e75c7bbc7979",
   "metadata": {},
   "outputs": [
    {
     "data": {
      "text/html": [
       "<div>\n",
       "<style scoped>\n",
       "    .dataframe tbody tr th:only-of-type {\n",
       "        vertical-align: middle;\n",
       "    }\n",
       "\n",
       "    .dataframe tbody tr th {\n",
       "        vertical-align: top;\n",
       "    }\n",
       "\n",
       "    .dataframe thead th {\n",
       "        text-align: right;\n",
       "    }\n",
       "</style>\n",
       "<table border=\"1\" class=\"dataframe\">\n",
       "  <thead>\n",
       "    <tr style=\"text-align: right;\">\n",
       "      <th></th>\n",
       "      <th>cgpa</th>\n",
       "      <th>package</th>\n",
       "    </tr>\n",
       "  </thead>\n",
       "  <tbody>\n",
       "    <tr>\n",
       "      <th>0</th>\n",
       "      <td>6.89</td>\n",
       "      <td>3.26</td>\n",
       "    </tr>\n",
       "    <tr>\n",
       "      <th>1</th>\n",
       "      <td>5.12</td>\n",
       "      <td>1.98</td>\n",
       "    </tr>\n",
       "    <tr>\n",
       "      <th>2</th>\n",
       "      <td>7.61</td>\n",
       "      <td>3.25</td>\n",
       "    </tr>\n",
       "    <tr>\n",
       "      <th>3</th>\n",
       "      <td>7.67</td>\n",
       "      <td>4.50</td>\n",
       "    </tr>\n",
       "    <tr>\n",
       "      <th>4</th>\n",
       "      <td>6.98</td>\n",
       "      <td>3.60</td>\n",
       "    </tr>\n",
       "  </tbody>\n",
       "</table>\n",
       "</div>"
      ],
      "text/plain": [
       "   cgpa  package\n",
       "0  6.89     3.26\n",
       "1  5.12     1.98\n",
       "2  7.61     3.25\n",
       "3  7.67     4.50\n",
       "4  6.98     3.60"
      ]
     },
     "execution_count": 33,
     "metadata": {},
     "output_type": "execute_result"
    }
   ],
   "source": [
    "dataset = pd.DataFrame({\"cgpa\":[6.89,5.12,7.61,7.67,6.98,6.73,5.67,7.00,3.55,6.60,4.50],\n",
    "                       \"package\":[3.26,1.98,3.25,4.50,3.60,2.80,3.67,5.00,3.55,4.60,2.50]\n",
    "                       \n",
    "                       })\n",
    "dataset.head(5)"
   ]
  },
  {
   "cell_type": "code",
   "execution_count": 3,
   "id": "479ac552-1477-4a4a-867d-16ca61cf5db3",
   "metadata": {},
   "outputs": [
    {
     "data": {
      "text/plain": [
       "cgpa       0\n",
       "package    0\n",
       "dtype: int64"
      ]
     },
     "execution_count": 3,
     "metadata": {},
     "output_type": "execute_result"
    }
   ],
   "source": [
    "dataset.isnull().sum()"
   ]
  },
  {
   "cell_type": "code",
   "execution_count": null,
   "id": "61a94ea5-8152-4a5f-a327-6d558443e8e2",
   "metadata": {},
   "outputs": [],
   "source": []
  },
  {
   "cell_type": "code",
   "execution_count": 34,
   "id": "86e21eda-34f2-4b4d-8739-c829068cc091",
   "metadata": {},
   "outputs": [
    {
     "data": {
      "image/png": "[encoded data removed]",
      "text/plain": [
       "<Figure size 500x300 with 1 Axes>"
      ]
     },
     "metadata": {},
     "output_type": "display_data"
    }
   ],
   "source": [
    "plt.figure(figsize=(5,3))\n",
    "sns.scatterplot(x=\"cgpa\", y=\"package\", data=dataset)\n",
    "plt.show()"
   ]
  },
  {
   "cell_type": "code",
   "execution_count": 35,
   "id": "8b00692d-333c-4dee-982e-ac6b62187c9b",
   "metadata": {},
   "outputs": [
    {
     "data": {
      "text/plain": [
       "2"
      ]
     },
     "execution_count": 35,
     "metadata": {},
     "output_type": "execute_result"
    }
   ],
   "source": [
    "x=dataset[[\"cgpa\"]]\n",
    "y=dataset[\"package\"]\n",
    "x.ndim"
   ]
  },
  {
   "cell_type": "code",
   "execution_count": 158,
   "id": "e571afcc-e0f4-412a-847b-542a989f7f3e",
   "metadata": {},
   "outputs": [],
   "source": [
    "x_train,x_test,y_train,y_test=train_test_split(x,y,test_size=0.2, random_state=49)"
   ]
  },
  {
   "cell_type": "code",
   "execution_count": 159,
   "id": "06ce2bce-341c-47da-9514-b797731c4288",
   "metadata": {},
   "outputs": [],
   "source": [
    "from sklearn.linear_model import LinearRegression "
   ]
  },
  {
   "cell_type": "code",
   "execution_count": 160,
   "id": "7ecc45e8-24b9-4697-a616-01bfc15cee9f",
   "metadata": {},
   "outputs": [],
   "source": [
    "lr=LinearRegression()"
   ]
  },
  {
   "cell_type": "code",
   "execution_count": 164,
   "id": "ea80c7ef-1593-488a-9753-443a48c64d19",
   "metadata": {},
   "outputs": [
    {
     "data": {
      "text/plain": [
       "array([0.22431543])"
      ]
     },
     "execution_count": 164,
     "metadata": {},
     "output_type": "execute_result"
    }
   ],
   "source": [
    "lr.coef_"
   ]
  },
  {
   "cell_type": "code",
   "execution_count": 166,
   "id": "83fd2678-91fb-4353-90cd-b62fc1b5fd82",
   "metadata": {},
   "outputs": [
    {
     "data": {
      "text/plain": [
       "1.9714105285502022"
      ]
     },
     "execution_count": 166,
     "metadata": {},
     "output_type": "execute_result"
    }
   ],
   "source": [
    "lr.intercept_ #y=mx+c; here c is the intercept"
   ]
  },
  {
   "cell_type": "code",
   "execution_count": null,
   "id": "343863c3-91e7-4ab1-8f56-eaf167a8e37b",
   "metadata": {},
   "outputs": [],
   "source": [
    "#y=0.22431543*x+1.9714105285502022"
   ]
  },
  {
   "cell_type": "code",
   "execution_count": 199,
   "id": "31dd13fd-b8c4-4b57-8fba-729f46ae545d",
   "metadata": {},
   "outputs": [],
   "source": [
    "#lr.fit(x_train,y_train)"
   ]
  },
  {
   "cell_type": "code",
   "execution_count": 200,
   "id": "7e3f6b25-959c-44b9-bbf7-3b631d64dc46",
   "metadata": {},
   "outputs": [
    {
     "data": {
      "text/plain": [
       "-5.656634024936191"
      ]
     },
     "execution_count": 200,
     "metadata": {},
     "output_type": "execute_result"
    }
   ],
   "source": [
    "(lr.score(x_test,y_test))*100"
   ]
  },
  {
   "cell_type": "code",
   "execution_count": 201,
   "id": "7bb05fe4-fd3b-4bc2-b64d-0c6ced8872de",
   "metadata": {},
   "outputs": [],
   "source": [
    "#lr.predict([[6.89]])"
   ]
  },
  {
   "cell_type": "code",
   "execution_count": 202,
   "id": "c230dc93-9629-440e-a9a5-67358a4cfac4",
   "metadata": {},
   "outputs": [
    {
     "data": {
      "text/plain": [
       "3.5169438412502023"
      ]
     },
     "execution_count": 202,
     "metadata": {},
     "output_type": "execute_result"
    }
   ],
   "source": [
    "0.22431543*6.89+1.9714105285502022 # Here is the solution of y=mx+c "
   ]
  },
  {
   "cell_type": "code",
   "execution_count": 203,
   "id": "6e639676-9e60-4df9-a0c9-b00f6f049fc2",
   "metadata": {},
   "outputs": [],
   "source": [
    "y_pred=lr.predict(x)"
   ]
  },
  {
   "cell_type": "code",
   "execution_count": 204,
   "id": "5fdd90e8-ec72-4ba9-9c4f-afffa915bef3",
   "metadata": {},
   "outputs": [
    {
     "data": {
      "image/png": "[encoded data removed]",
      "text/plain": [
       "<Figure size 500x300 with 1 Axes>"
      ]
     },
     "metadata": {},
     "output_type": "display_data"
    }
   ],
   "source": [
    "plt.figure(figsize=(5,3))\n",
    "sns.scatterplot(x=\"cgpa\", y=\"package\", data=dataset)\n",
    "plt.plot(dataset[\"cgpa\"],y_pred ,c=\"red\")\n",
    "plt.legend([\"org data\", \"pred_line\"])\n",
    "plt.savefig(\"predict.jpg\")\n",
    "plt.show()"
   ]
  },
  {
   "cell_type": "code",
   "execution_count": null,
   "id": "518a3df7-1366-431e-94ee-65db53b4a97f",
   "metadata": {},
   "outputs": [],
   "source": []
  },
  {
   "cell_type": "markdown",
   "id": "3268bb86-ea79-4b0d-9ecb-48de9be0f023",
   "metadata": {},
   "source": [
    "# Multiple linear Regression"
   ]
  },
  {
   "cell_type": "code",
   "execution_count": 231,
   "id": "f79ffc0e-9db7-4008-a8d2-f92b6260aa26",
   "metadata": {},
   "outputs": [
    {
     "data": {
      "text/html": [
       "<div>\n",
       "<style scoped>\n",
       "    .dataframe tbody tr th:only-of-type {\n",
       "        vertical-align: middle;\n",
       "    }\n",
       "\n",
       "    .dataframe tbody tr th {\n",
       "        vertical-align: top;\n",
       "    }\n",
       "\n",
       "    .dataframe thead th {\n",
       "        text-align: right;\n",
       "    }\n",
       "</style>\n",
       "<table border=\"1\" class=\"dataframe\">\n",
       "  <thead>\n",
       "    <tr style=\"text-align: right;\">\n",
       "      <th></th>\n",
       "      <th>Age</th>\n",
       "      <th>Experience</th>\n",
       "      <th>Salary</th>\n",
       "    </tr>\n",
       "  </thead>\n",
       "  <tbody>\n",
       "    <tr>\n",
       "      <th>0</th>\n",
       "      <td>15</td>\n",
       "      <td>2</td>\n",
       "      <td>10000</td>\n",
       "    </tr>\n",
       "    <tr>\n",
       "      <th>1</th>\n",
       "      <td>20</td>\n",
       "      <td>3</td>\n",
       "      <td>20000</td>\n",
       "    </tr>\n",
       "    <tr>\n",
       "      <th>2</th>\n",
       "      <td>25</td>\n",
       "      <td>1</td>\n",
       "      <td>25000</td>\n",
       "    </tr>\n",
       "    <tr>\n",
       "      <th>3</th>\n",
       "      <td>30</td>\n",
       "      <td>4</td>\n",
       "      <td>30000</td>\n",
       "    </tr>\n",
       "    <tr>\n",
       "      <th>4</th>\n",
       "      <td>35</td>\n",
       "      <td>2</td>\n",
       "      <td>35000</td>\n",
       "    </tr>\n",
       "  </tbody>\n",
       "</table>\n",
       "</div>"
      ],
      "text/plain": [
       "   Age  Experience  Salary\n",
       "0   15           2   10000\n",
       "1   20           3   20000\n",
       "2   25           1   25000\n",
       "3   30           4   30000\n",
       "4   35           2   35000"
      ]
     },
     "execution_count": 231,
     "metadata": {},
     "output_type": "execute_result"
    }
   ],
   "source": [
    "df = pd.DataFrame({\"Age\":[15,20,25,30,35,40,45,50,55,60,65],\"Experience\":[2,3,1,4,2,1,2,3,4,5,3],\"Salary\":[10000,20000,25000,30000,35000,40000,450000,50000,55000,60000,65000]})\n",
    "df.head(5)"
   ]
  },
  {
   "cell_type": "code",
   "execution_count": 232,
   "id": "84c141f9-def1-43b8-ae4e-40186471f546",
   "metadata": {},
   "outputs": [],
   "source": [
    "# y=m1x1+m2x2+m3x3+...............+c; this is for multiple regression\n"
   ]
  },
  {
   "cell_type": "code",
   "execution_count": 233,
   "id": "e223a795-08e5-4f20-b49a-72d4f56ccb23",
   "metadata": {},
   "outputs": [
    {
     "data": {
      "text/plain": [
       "Age           0\n",
       "Experience    0\n",
       "Salary        0\n",
       "dtype: int64"
      ]
     },
     "execution_count": 233,
     "metadata": {},
     "output_type": "execute_result"
    }
   ],
   "source": [
    "df.isnull().sum()"
   ]
  },
  {
   "cell_type": "code",
   "execution_count": 234,
   "id": "c8fab4d9-8672-4dbd-9541-52c973e5978d",
   "metadata": {},
   "outputs": [
    {
     "data": {
      "image/png": "[encoded data removed]",
      "text/plain": [
       "<Figure size 750x750 with 12 Axes>"
      ]
     },
     "metadata": {},
     "output_type": "display_data"
    }
   ],
   "source": [
    "sns.pairplot(data=df)\n",
    "plt.show()"
   ]
  },
  {
   "cell_type": "code",
   "execution_count": 235,
   "id": "2c86b747-8185-4213-8fb9-badfacd66e4c",
   "metadata": {},
   "outputs": [
    {
     "data": {
      "image/png": "[encoded data removed]",
      "text/plain": [
       "<Figure size 640x480 with 2 Axes>"
      ]
     },
     "metadata": {},
     "output_type": "display_data"
    }
   ],
   "source": [
    "sns.heatmap(data=df.corr(), annot=True)\n",
    "plt.show()"
   ]
  },
  {
   "cell_type": "code",
   "execution_count": 236,
   "id": "76e716fd-8dbe-4361-a38f-d261d512634e",
   "metadata": {},
   "outputs": [],
   "source": [
    "x1=df.iloc[:,:-1]\n",
    "y1= df[\"Salary\"]"
   ]
  },
  {
   "cell_type": "code",
   "execution_count": 237,
   "id": "06834755-b48e-4d08-914e-22387112960e",
   "metadata": {},
   "outputs": [],
   "source": [
    "from sklearn.model_selection import train_test_split"
   ]
  },
  {
   "cell_type": "code",
   "execution_count": 238,
   "id": "74a84c63-2c8a-4b1c-878a-6983e5dea7e8",
   "metadata": {},
   "outputs": [],
   "source": [
    "X_train,X_test,Y_train,Y_test=train_test_split(x1,y1,test_size=0.2,random_state=42)"
   ]
  },
  {
   "cell_type": "code",
   "execution_count": 239,
   "id": "f30caf5e-8d88-43e7-9298-ab37ab8a29aa",
   "metadata": {},
   "outputs": [],
   "source": [
    "#from sklearn.linear_model import LinearRegression"
   ]
  },
  {
   "cell_type": "code",
   "execution_count": 245,
   "id": "673c5390-18b9-4282-9759-9055c64650e0",
   "metadata": {},
   "outputs": [],
   "source": [
    "lr= LinearRegression()"
   ]
  },
  {
   "cell_type": "code",
   "execution_count": 249,
   "id": "6e24271d-5d16-4619-9761-ed15ff3eb2af",
   "metadata": {},
   "outputs": [],
   "source": [
    "#lr.fit(X_train,Y_test)"
   ]
  },
  {
   "cell_type": "code",
   "execution_count": 248,
   "id": "d80b49ee-942a-46a9-9af3-5d4b2cc2978a",
   "metadata": {},
   "outputs": [],
   "source": [
    "#lr.score(x_test,y_test)"
   ]
  },
  {
   "cell_type": "code",
   "execution_count": null,
   "id": "7351c3e6-70a9-44c5-bca0-0e94d491ed1a",
   "metadata": {},
   "outputs": [],
   "source": []
  }
 ],
 "metadata": {
  "kernelspec": {
   "display_name": "Python 3 (ipykernel)",
   "language": "python",
   "name": "python3"
  },
  "language_info": {
   "codemirror_mode": {
    "name": "ipython",
    "version": 3
   },
   "file_extension": ".py",
   "mimetype": "text/x-python",
   "name": "python",
   "nbconvert_exporter": "python",
   "pygments_lexer": "ipython3",
   "version": "3.12.3"
  }
 },
 "nbformat": 4,
 "nbformat_minor": 5
}
