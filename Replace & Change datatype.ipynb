{
 "cells": [
  {
   "cell_type": "code",
   "execution_count": 1,
   "id": "c348fccd-c424-4f54-ba3a-04b63ca7ad92",
   "metadata": {},
   "outputs": [],
   "source": [
    "import pandas as pd"
   ]
  },
  {
   "cell_type": "code",
   "execution_count": 2,
   "id": "7cc16e6b-5781-4839-b3e8-4ba922cc0afc",
   "metadata": {},
   "outputs": [
    {
     "data": {
      "text/html": [
       "<div>\n",
       "<style scoped>\n",
       "    .dataframe tbody tr th:only-of-type {\n",
       "        vertical-align: middle;\n",
       "    }\n",
       "\n",
       "    .dataframe tbody tr th {\n",
       "        vertical-align: top;\n",
       "    }\n",
       "\n",
       "    .dataframe thead th {\n",
       "        text-align: right;\n",
       "    }\n",
       "</style>\n",
       "<table border=\"1\" class=\"dataframe\">\n",
       "  <thead>\n",
       "    <tr style=\"text-align: right;\">\n",
       "      <th></th>\n",
       "      <th>Age</th>\n",
       "      <th>Gender</th>\n",
       "      <th>Education Level</th>\n",
       "      <th>Job Title</th>\n",
       "      <th>Years of Experience</th>\n",
       "      <th>Salary</th>\n",
       "    </tr>\n",
       "  </thead>\n",
       "  <tbody>\n",
       "    <tr>\n",
       "      <th>0</th>\n",
       "      <td>32</td>\n",
       "      <td>Male</td>\n",
       "      <td>Bachelor's</td>\n",
       "      <td>Software Engineer</td>\n",
       "      <td>5</td>\n",
       "      <td>90000</td>\n",
       "    </tr>\n",
       "    <tr>\n",
       "      <th>1</th>\n",
       "      <td>28</td>\n",
       "      <td>Female</td>\n",
       "      <td>Master's</td>\n",
       "      <td>Data Analyst</td>\n",
       "      <td>3</td>\n",
       "      <td>65000</td>\n",
       "    </tr>\n",
       "    <tr>\n",
       "      <th>2</th>\n",
       "      <td>45</td>\n",
       "      <td>Male</td>\n",
       "      <td>PhD</td>\n",
       "      <td>Senior Manager</td>\n",
       "      <td>15</td>\n",
       "      <td>150000</td>\n",
       "    </tr>\n",
       "  </tbody>\n",
       "</table>\n",
       "</div>"
      ],
      "text/plain": [
       "   Age  Gender Education Level          Job Title  Years of Experience  Salary\n",
       "0   32    Male      Bachelor's  Software Engineer                    5   90000\n",
       "1   28  Female        Master's       Data Analyst                    3   65000\n",
       "2   45    Male             PhD     Senior Manager                   15  150000"
      ]
     },
     "execution_count": 2,
     "metadata": {},
     "output_type": "execute_result"
    }
   ],
   "source": [
    "dataset =pd.read_excel(\"loan.xlsx\")\n",
    "dataset.head(3)"
   ]
  },
  {
   "cell_type": "code",
   "execution_count": 3,
   "id": "88be3d99-6861-43c4-9bfb-b04a8b0c7ce2",
   "metadata": {},
   "outputs": [
    {
     "name": "stdout",
     "output_type": "stream",
     "text": [
      "<class 'pandas.core.frame.DataFrame'>\n",
      "RangeIndex: 59 entries, 0 to 58\n",
      "Data columns (total 6 columns):\n",
      " #   Column               Non-Null Count  Dtype \n",
      "---  ------               --------------  ----- \n",
      " 0   Age                  59 non-null     int64 \n",
      " 1   Gender               59 non-null     object\n",
      " 2   Education Level      59 non-null     object\n",
      " 3   Job Title            59 non-null     object\n",
      " 4   Years of Experience  59 non-null     int64 \n",
      " 5   Salary               59 non-null     int64 \n",
      "dtypes: int64(3), object(3)\n",
      "memory usage: 2.9+ KB\n"
     ]
    }
   ],
   "source": [
    "dataset.info()"
   ]
  },
  {
   "cell_type": "code",
   "execution_count": 4,
   "id": "ba88588e-2945-4b15-9531-8fccd3fcffa4",
   "metadata": {},
   "outputs": [
    {
     "data": {
      "text/plain": [
       "Age                    0\n",
       "Gender                 0\n",
       "Education Level        0\n",
       "Job Title              0\n",
       "Years of Experience    0\n",
       "Salary                 0\n",
       "dtype: int64"
      ]
     },
     "execution_count": 4,
     "metadata": {},
     "output_type": "execute_result"
    }
   ],
   "source": [
    "dataset.isnull().sum()"
   ]
  },
  {
   "cell_type": "code",
   "execution_count": 12,
   "id": "54b8c6da-60a9-4e74-9e66-a9a63da473f5",
   "metadata": {},
   "outputs": [
    {
     "data": {
      "text/plain": [
       "Education Level\n",
       "Bachelor's    32\n",
       "Master's      20\n",
       "PhD            7\n",
       "Name: count, dtype: int64"
      ]
     },
     "execution_count": 12,
     "metadata": {},
     "output_type": "execute_result"
    }
   ],
   "source": [
    "dataset[\"Job Title\"].value_counts()"
   ]
  },
  {
   "cell_type": "code",
   "execution_count": 15,
   "id": "3a5724aa-258b-4e65-96cf-23364becf871",
   "metadata": {},
   "outputs": [],
   "source": [
    "dataset[\"Age\"]=dataset[\"Age\"].astype(\"int64\")"
   ]
  },
  {
   "cell_type": "code",
   "execution_count": 11,
   "id": "3ae88b77-7c84-439a-8371-78463177f817",
   "metadata": {},
   "outputs": [
    {
     "name": "stdout",
     "output_type": "stream",
     "text": [
      "<class 'pandas.core.frame.DataFrame'>\n",
      "RangeIndex: 59 entries, 0 to 58\n",
      "Data columns (total 6 columns):\n",
      " #   Column               Non-Null Count  Dtype \n",
      "---  ------               --------------  ----- \n",
      " 0   Age                  59 non-null     int64 \n",
      " 1   Gender               59 non-null     object\n",
      " 2   Education Level      59 non-null     object\n",
      " 3   Job Title            59 non-null     object\n",
      " 4   Years of Experience  59 non-null     int64 \n",
      " 5   Salary               59 non-null     int64 \n",
      "dtypes: int64(3), object(3)\n",
      "memory usage: 2.9+ KB\n"
     ]
    }
   ],
   "source": [
    "dataset.info()"
   ]
  }
 ],
 "metadata": {
  "kernelspec": {
   "display_name": "Python 3 (ipykernel)",
   "language": "python",
   "name": "python3"
  },
  "language_info": {
   "codemirror_mode": {
    "name": "ipython",
    "version": 3
   },
   "file_extension": ".py",
   "mimetype": "text/x-python",
   "name": "python",
   "nbconvert_exporter": "python",
   "pygments_lexer": "ipython3",
   "version": "3.12.3"
  }
 },
 "nbformat": 4,
 "nbformat_minor": 5
}
